{
 "cells": [
  {
   "cell_type": "markdown",
   "metadata": {},
   "source": [
    "# N<sup>15</sup>- HSQC peak position simulation\n",
    "\n",
    "N<sup>15</sup>-HSQC peak positions can be simulated by algorithmically combining nitrogen and protein chemical shifts from assigned chemical shifts in any BMRB entry.  \n",
    "## Initialization"
   ]
  },
  {
   "cell_type": "code",
   "execution_count": 1,
   "metadata": {},
   "outputs": [],
   "source": [
    "from pybmrb import csviz"
   ]
  },
  {
   "cell_type": "markdown",
   "metadata": {},
   "source": [
    "by default the functions in this library will write output in a html file given as a parameter. It also has notebook mode which will generate embedded visualization in the notebook. Let's enable the notebook mode. "
   ]
  },
  {
   "cell_type": "code",
   "execution_count": 18,
   "metadata": {},
   "outputs": [],
   "source": [
    "csviz.NOTEBOOK = True"
   ]
  },
  {
   "cell_type": "markdown",
   "metadata": {},
   "source": [
    "Let's call the histogram method"
   ]
  },
  {
   "cell_type": "code",
   "execution_count": 19,
   "metadata": {},
   "outputs": [
    {
     "data": {
      "text/html": [
       "<script>requirejs.config({paths: { 'plotly': ['https://cdn.plot.ly/plotly-latest.min']},});if(!window.Plotly) {{require(['plotly'],function(plotly) {window.Plotly=plotly;});}}</script>"
      ],
      "text/vnd.plotly.v1+html": [
       "<script>requirejs.config({paths: { 'plotly': ['https://cdn.plot.ly/plotly-latest.min']},});if(!window.Plotly) {{require(['plotly'],function(plotly) {window.Plotly=plotly;});}}</script>"
      ]
     },
     "metadata": {},
     "output_type": "display_data"
    }
   ],
   "source": [
    "s = csviz.Spectra()"
   ]
  },
  {
   "cell_type": "markdown",
   "metadata": {},
   "source": [
    "## N<sup>15</sup>-HSQC from BMRB Entry"
   ]
  },
  {
   "cell_type": "code",
   "execution_count": 20,
   "metadata": {},
   "outputs": [
    {
     "data": {
      "application/vnd.plotly.v1+json": {
       "data": [
        {
         "mode": "markers",
         "name": "ASP",
         "opacity": 0.5,
         "text": [
          "15060-35-ASP-1",
          "15060-51-ASP-1",
          "15060-64-ASP-1",
          "15060-66-ASP-1",
          "15060-71-ASP-1",
          "15060-92-ASP-1",
          "15060-101-ASP-1",
          "15060-102-ASP-1",
          "15060-104-ASP-1",
          "15060-107-ASP-1"
         ],
         "type": "scatter",
         "x": [
          "8.796",
          "8.126",
          "7.921",
          "7.723",
          "8.691",
          "8.269",
          "8.269",
          "8.376",
          "8.409",
          "8.048"
         ],
         "y": [
          "120.621",
          "118.623",
          "119.109",
          "120.613",
          "115.520",
          "120.647",
          "120.647",
          "120.080",
          "122.658",
          "127.146"
         ]
        },
        {
         "mode": "markers",
         "name": "GLY",
         "opacity": 0.5,
         "text": [
          "15060-41-GLY-1"
         ],
         "type": "scatter",
         "x": [
          "7.093"
         ],
         "y": [
          "101.824"
         ]
        },
        {
         "mode": "markers",
         "name": "TRP",
         "opacity": 0.5,
         "text": [
          "15060-36-TRP-1",
          "15060-36-TRP-HE1-1"
         ],
         "type": "scatter",
         "x": [
          "8.492",
          "10.148"
         ],
         "y": [
          "122.912",
          "130.106"
         ]
        },
        {
         "mode": "markers",
         "name": "SER",
         "opacity": 0.5,
         "text": [
          "15060-52-SER-1",
          "15060-88-SER-1",
          "15060-103-SER-1"
         ],
         "type": "scatter",
         "x": [
          "7.882",
          "8.087",
          "8.239"
         ],
         "y": [
          "111.515",
          "113.499",
          "115.602"
         ]
        },
        {
         "mode": "markers",
         "name": "GLN",
         "opacity": 0.5,
         "text": [
          "15060-25-GLN-1",
          "15060-25-GLN-HE21-1",
          "15060-25-GLN-HE22-1",
          "15060-26-GLN-1",
          "15060-26-GLN-HE21-1",
          "15060-26-GLN-HE22-1",
          "15060-44-GLN-1",
          "15060-44-GLN-HE21-1",
          "15060-44-GLN-HE22-1",
          "15060-47-GLN-1",
          "15060-47-GLN-HE21-1",
          "15060-47-GLN-HE22-1",
          "15060-53-GLN-1",
          "15060-53-GLN-HE21-1",
          "15060-53-GLN-HE22-1",
          "15060-96-GLN-1",
          "15060-96-GLN-HE21-1",
          "15060-96-GLN-HE22-1"
         ],
         "type": "scatter",
         "x": [
          "8.021",
          "7.703",
          "6.839",
          "8.313",
          "7.393",
          "6.770",
          "10.134",
          "7.600",
          "7.526",
          "8.114",
          "7.884",
          "6.867",
          "8.169",
          "7.337",
          "6.871",
          "8.160",
          "7.519",
          "6.884"
         ],
         "y": [
          "121.400",
          "112.158",
          "112.158",
          "119.279",
          "111.116",
          "111.116",
          "121.355",
          "111.932",
          "111.932",
          "117.390",
          "115.368",
          "115.368",
          "114.417",
          "113.885",
          "113.885",
          "121.289",
          "112.512",
          "112.512"
         ]
        },
        {
         "mode": "markers",
         "name": "CYS",
         "opacity": 0.5,
         "text": [
          "15060-34-CYS-1",
          "15060-77-CYS-1",
          "15060-86-CYS-1"
         ],
         "type": "scatter",
         "x": [
          "8.451",
          "8.273",
          "8.435"
         ],
         "y": [
          "116.884",
          "116.751",
          "118.712"
         ]
        },
        {
         "mode": "markers",
         "name": "LYS",
         "opacity": 0.5,
         "text": [
          "15060-31-LYS-1",
          "15060-62-LYS-1",
          "15060-63-LYS-1",
          "15060-85-LYS-1",
          "15060-98-LYS-1",
          "15060-99-LYS-1"
         ],
         "type": "scatter",
         "x": [
          "7.997",
          "8.236",
          "7.435",
          "8.096",
          "8.441",
          "8.522"
         ],
         "y": [
          "120.697",
          "118.525",
          "118.030",
          "122.287",
          "123.396",
          "123.539"
         ]
        },
        {
         "mode": "markers",
         "name": "ASN",
         "opacity": 0.5,
         "text": [
          "15060-57-ASN-1",
          "15060-57-ASN-HD21-1",
          "15060-57-ASN-HD22-1",
          "15060-81-ASN-1",
          "15060-81-ASN-HD21-1",
          "15060-81-ASN-HD22-1",
          "15060-84-ASN-1",
          "15060-84-ASN-HD21-1",
          "15060-84-ASN-HD22-1",
          "15060-94-ASN-1",
          "15060-94-ASN-HD21-1",
          "15060-94-ASN-HD22-1"
         ],
         "type": "scatter",
         "x": [
          "8.390",
          "7.007",
          "7.710",
          "8.517",
          "7.566",
          "6.954",
          "8.967",
          "7.232",
          "7.739",
          "8.376",
          "7.684",
          "6.944"
         ],
         "y": [
          "122.152",
          "111.858",
          "111.858",
          "118.647",
          "114.200",
          "114.200",
          "121.031",
          "105.352",
          "105.352",
          "120.080",
          "113.553",
          "113.553"
         ]
        },
        {
         "mode": "markers",
         "name": "ILE",
         "opacity": 0.5,
         "text": [
          "15060-24-ILE-1",
          "15060-28-ILE-1",
          "15060-56-ILE-1",
          "15060-58-ILE-1"
         ],
         "type": "scatter",
         "x": [
          "8.033",
          "8.021",
          "8.972",
          "8.611"
         ],
         "y": [
          "119.731",
          "121.869",
          "119.002",
          "128.642"
         ]
        },
        {
         "mode": "markers",
         "name": "VAL",
         "opacity": 0.5,
         "text": [
          "15060-21-VAL-1",
          "15060-61-VAL-1",
          "15060-73-VAL-1",
          "15060-93-VAL-1"
         ],
         "type": "scatter",
         "x": [
          "8.048",
          "7.380",
          "7.761",
          "8.033"
         ],
         "y": [
          "120.251",
          "119.124",
          "119.359",
          "119.731"
         ]
        },
        {
         "mode": "markers",
         "name": "THR",
         "opacity": 0.5,
         "text": [
          "15060-22-THR-1",
          "15060-82-THR-1"
         ],
         "type": "scatter",
         "x": [
          "8.032",
          "8.036"
         ],
         "y": [
          "116.327",
          "119.380"
         ]
        },
        {
         "mode": "markers",
         "name": "TYR",
         "opacity": 0.5,
         "text": [
          "15060-45-TYR-1",
          "15060-49-TYR-1"
         ],
         "type": "scatter",
         "x": [
          "7.241",
          "7.761"
         ],
         "y": [
          "119.170",
          "119.359"
         ]
        },
        {
         "mode": "markers",
         "name": "LEU",
         "opacity": 0.5,
         "text": [
          "15060-20-LEU-1",
          "15060-37-LEU-1",
          "15060-48-LEU-1",
          "15060-68-LEU-1",
          "15060-72-LEU-1",
          "15060-76-LEU-1",
          "15060-80-LEU-1",
          "15060-83-LEU-1",
          "15060-91-LEU-1"
         ],
         "type": "scatter",
         "x": [
          "8.149",
          "8.733",
          "7.831",
          "7.545",
          "7.912",
          "7.241",
          "8.160",
          "7.897",
          "7.936"
         ],
         "y": [
          "122.739",
          "118.921",
          "118.032",
          "123.253",
          "118.675",
          "119.170",
          "117.390",
          "121.629",
          "121.017"
         ]
        },
        {
         "mode": "markers",
         "name": "ALA",
         "opacity": 0.5,
         "text": [
          "15060-30-ALA-1",
          "15060-33-ALA-1",
          "15060-39-ALA-1",
          "15060-40-ALA-1",
          "15060-46-ALA-1",
          "15060-59-ALA-1",
          "15060-60-ALA-1",
          "15060-87-ALA-1"
         ],
         "type": "scatter",
         "x": [
          "8.280",
          "7.897",
          "7.900",
          "8.067",
          "6.875",
          "8.080",
          "7.422",
          "8.744"
         ],
         "y": [
          "122.373",
          "121.629",
          "122.812",
          "118.343",
          "121.385",
          "122.287",
          "119.996",
          "121.138"
         ]
        },
        {
         "mode": "markers",
         "name": "ARG",
         "opacity": 0.5,
         "text": [
          "15060-38-ARG-1",
          "15060-70-ARG-1",
          "15060-78-ARG-1",
          "15060-79-ARG-1",
          "15060-90-ARG-1",
          "15060-97-ARG-1"
         ],
         "type": "scatter",
         "x": [
          "8.032",
          "8.804",
          "8.060",
          "7.328",
          "7.793",
          "8.204"
         ],
         "y": [
          "116.327",
          "123.728",
          "120.251",
          "120.135",
          "118.950",
          "122.338"
         ]
        },
        {
         "mode": "markers",
         "name": "MET",
         "opacity": 0.5,
         "text": [
          "15060-89-MET-1"
         ],
         "type": "scatter",
         "x": [
          "7.782"
         ],
         "y": [
          "120.541"
         ]
        },
        {
         "mode": "markers",
         "name": "PHE",
         "opacity": 0.5,
         "text": [
          "15060-42-PHE-1",
          "15060-54-PHE-1",
          "15060-67-PHE-1",
          "15060-95-PHE-1"
         ],
         "type": "scatter",
         "x": [
          "8.648",
          "8.165",
          "7.553",
          "8.048"
         ],
         "y": [
          "118.308",
          "121.830",
          "115.112",
          "120.616"
         ]
        },
        {
         "mode": "markers",
         "name": "GLU",
         "opacity": 0.5,
         "text": [
          "15060-27-GLU-1",
          "15060-29-GLU-1",
          "15060-32-GLU-1",
          "15060-50-GLU-1",
          "15060-69-GLU-1",
          "15060-74-GLU-1",
          "15060-105-GLU-1",
          "15060-106-GLU-1"
         ],
         "type": "scatter",
         "x": [
          "8.197",
          "8.269",
          "8.236",
          "8.499",
          "8.659",
          "8.615",
          "8.269",
          "8.391"
         ],
         "y": [
          "119.648",
          "120.647",
          "118.525",
          "123.085",
          "121.494",
          "119.749",
          "120.647",
          "122.119"
         ]
        },
        {
         "mode": "markers",
         "name": "HIS",
         "opacity": 0.5,
         "text": [
          "15060-65-HIS-1"
         ],
         "type": "scatter",
         "x": [
          "7.564"
         ],
         "y": [
          "117.388"
         ]
        }
       ],
       "layout": {
        "hovermode": "closest",
        "showlegend": true,
        "title": "Simulated N15-HSQC peak positions",
        "xaxis": {
         "autorange": "reversed",
         "title": "H (ppm)"
        },
        "yaxis": {
         "autorange": "reversed",
         "title": "N (ppm)"
        }
       }
      },
      "text/html": [
       "<div id=\"b0a704b7-2538-48a6-8225-9ac1cd141449\" style=\"height: 525px; width: 100%;\" class=\"plotly-graph-div\"></div><script type=\"text/javascript\">require([\"plotly\"], function(Plotly) { window.PLOTLYENV=window.PLOTLYENV || {};window.PLOTLYENV.BASE_URL=\"https://plot.ly\";Plotly.newPlot(\"b0a704b7-2538-48a6-8225-9ac1cd141449\", [{\"type\": \"scatter\", \"x\": [\"8.796\", \"8.126\", \"7.921\", \"7.723\", \"8.691\", \"8.269\", \"8.269\", \"8.376\", \"8.409\", \"8.048\"], \"y\": [\"120.621\", \"118.623\", \"119.109\", \"120.613\", \"115.520\", \"120.647\", \"120.647\", \"120.080\", \"122.658\", \"127.146\"], \"text\": [\"15060-35-ASP-1\", \"15060-51-ASP-1\", \"15060-64-ASP-1\", \"15060-66-ASP-1\", \"15060-71-ASP-1\", \"15060-92-ASP-1\", \"15060-101-ASP-1\", \"15060-102-ASP-1\", \"15060-104-ASP-1\", \"15060-107-ASP-1\"], \"mode\": \"markers\", \"opacity\": 0.5, \"name\": \"ASP\"}, {\"type\": \"scatter\", \"x\": [\"7.093\"], \"y\": [\"101.824\"], \"text\": [\"15060-41-GLY-1\"], \"mode\": \"markers\", \"opacity\": 0.5, \"name\": \"GLY\"}, {\"type\": \"scatter\", \"x\": [\"8.492\", \"10.148\"], \"y\": [\"122.912\", \"130.106\"], \"text\": [\"15060-36-TRP-1\", \"15060-36-TRP-HE1-1\"], \"mode\": \"markers\", \"opacity\": 0.5, \"name\": \"TRP\"}, {\"type\": \"scatter\", \"x\": [\"7.882\", \"8.087\", \"8.239\"], \"y\": [\"111.515\", \"113.499\", \"115.602\"], \"text\": [\"15060-52-SER-1\", \"15060-88-SER-1\", \"15060-103-SER-1\"], \"mode\": \"markers\", \"opacity\": 0.5, \"name\": \"SER\"}, {\"type\": \"scatter\", \"x\": [\"8.021\", \"7.703\", \"6.839\", \"8.313\", \"7.393\", \"6.770\", \"10.134\", \"7.600\", \"7.526\", \"8.114\", \"7.884\", \"6.867\", \"8.169\", \"7.337\", \"6.871\", \"8.160\", \"7.519\", \"6.884\"], \"y\": [\"121.400\", \"112.158\", \"112.158\", \"119.279\", \"111.116\", \"111.116\", \"121.355\", \"111.932\", \"111.932\", \"117.390\", \"115.368\", \"115.368\", \"114.417\", \"113.885\", \"113.885\", \"121.289\", \"112.512\", \"112.512\"], \"text\": [\"15060-25-GLN-1\", \"15060-25-GLN-HE21-1\", \"15060-25-GLN-HE22-1\", \"15060-26-GLN-1\", \"15060-26-GLN-HE21-1\", \"15060-26-GLN-HE22-1\", \"15060-44-GLN-1\", \"15060-44-GLN-HE21-1\", \"15060-44-GLN-HE22-1\", \"15060-47-GLN-1\", \"15060-47-GLN-HE21-1\", \"15060-47-GLN-HE22-1\", \"15060-53-GLN-1\", \"15060-53-GLN-HE21-1\", \"15060-53-GLN-HE22-1\", \"15060-96-GLN-1\", \"15060-96-GLN-HE21-1\", \"15060-96-GLN-HE22-1\"], \"mode\": \"markers\", \"opacity\": 0.5, \"name\": \"GLN\"}, {\"type\": \"scatter\", \"x\": [\"8.451\", \"8.273\", \"8.435\"], \"y\": [\"116.884\", \"116.751\", \"118.712\"], \"text\": [\"15060-34-CYS-1\", \"15060-77-CYS-1\", \"15060-86-CYS-1\"], \"mode\": \"markers\", \"opacity\": 0.5, \"name\": \"CYS\"}, {\"type\": \"scatter\", \"x\": [\"7.997\", \"8.236\", \"7.435\", \"8.096\", \"8.441\", \"8.522\"], \"y\": [\"120.697\", \"118.525\", \"118.030\", \"122.287\", \"123.396\", \"123.539\"], \"text\": [\"15060-31-LYS-1\", \"15060-62-LYS-1\", \"15060-63-LYS-1\", \"15060-85-LYS-1\", \"15060-98-LYS-1\", \"15060-99-LYS-1\"], \"mode\": \"markers\", \"opacity\": 0.5, \"name\": \"LYS\"}, {\"type\": \"scatter\", \"x\": [\"8.390\", \"7.007\", \"7.710\", \"8.517\", \"7.566\", \"6.954\", \"8.967\", \"7.232\", \"7.739\", \"8.376\", \"7.684\", \"6.944\"], \"y\": [\"122.152\", \"111.858\", \"111.858\", \"118.647\", \"114.200\", \"114.200\", \"121.031\", \"105.352\", \"105.352\", \"120.080\", \"113.553\", \"113.553\"], \"text\": [\"15060-57-ASN-1\", \"15060-57-ASN-HD21-1\", \"15060-57-ASN-HD22-1\", \"15060-81-ASN-1\", \"15060-81-ASN-HD21-1\", \"15060-81-ASN-HD22-1\", \"15060-84-ASN-1\", \"15060-84-ASN-HD21-1\", \"15060-84-ASN-HD22-1\", \"15060-94-ASN-1\", \"15060-94-ASN-HD21-1\", \"15060-94-ASN-HD22-1\"], \"mode\": \"markers\", \"opacity\": 0.5, \"name\": \"ASN\"}, {\"type\": \"scatter\", \"x\": [\"8.033\", \"8.021\", \"8.972\", \"8.611\"], \"y\": [\"119.731\", \"121.869\", \"119.002\", \"128.642\"], \"text\": [\"15060-24-ILE-1\", \"15060-28-ILE-1\", \"15060-56-ILE-1\", \"15060-58-ILE-1\"], \"mode\": \"markers\", \"opacity\": 0.5, \"name\": \"ILE\"}, {\"type\": \"scatter\", \"x\": [\"8.048\", \"7.380\", \"7.761\", \"8.033\"], \"y\": [\"120.251\", \"119.124\", \"119.359\", \"119.731\"], \"text\": [\"15060-21-VAL-1\", \"15060-61-VAL-1\", \"15060-73-VAL-1\", \"15060-93-VAL-1\"], \"mode\": \"markers\", \"opacity\": 0.5, \"name\": \"VAL\"}, {\"type\": \"scatter\", \"x\": [\"8.032\", \"8.036\"], \"y\": [\"116.327\", \"119.380\"], \"text\": [\"15060-22-THR-1\", \"15060-82-THR-1\"], \"mode\": \"markers\", \"opacity\": 0.5, \"name\": \"THR\"}, {\"type\": \"scatter\", \"x\": [\"7.241\", \"7.761\"], \"y\": [\"119.170\", \"119.359\"], \"text\": [\"15060-45-TYR-1\", \"15060-49-TYR-1\"], \"mode\": \"markers\", \"opacity\": 0.5, \"name\": \"TYR\"}, {\"type\": \"scatter\", \"x\": [\"8.149\", \"8.733\", \"7.831\", \"7.545\", \"7.912\", \"7.241\", \"8.160\", \"7.897\", \"7.936\"], \"y\": [\"122.739\", \"118.921\", \"118.032\", \"123.253\", \"118.675\", \"119.170\", \"117.390\", \"121.629\", \"121.017\"], \"text\": [\"15060-20-LEU-1\", \"15060-37-LEU-1\", \"15060-48-LEU-1\", \"15060-68-LEU-1\", \"15060-72-LEU-1\", \"15060-76-LEU-1\", \"15060-80-LEU-1\", \"15060-83-LEU-1\", \"15060-91-LEU-1\"], \"mode\": \"markers\", \"opacity\": 0.5, \"name\": \"LEU\"}, {\"type\": \"scatter\", \"x\": [\"8.280\", \"7.897\", \"7.900\", \"8.067\", \"6.875\", \"8.080\", \"7.422\", \"8.744\"], \"y\": [\"122.373\", \"121.629\", \"122.812\", \"118.343\", \"121.385\", \"122.287\", \"119.996\", \"121.138\"], \"text\": [\"15060-30-ALA-1\", \"15060-33-ALA-1\", \"15060-39-ALA-1\", \"15060-40-ALA-1\", \"15060-46-ALA-1\", \"15060-59-ALA-1\", \"15060-60-ALA-1\", \"15060-87-ALA-1\"], \"mode\": \"markers\", \"opacity\": 0.5, \"name\": \"ALA\"}, {\"type\": \"scatter\", \"x\": [\"8.032\", \"8.804\", \"8.060\", \"7.328\", \"7.793\", \"8.204\"], \"y\": [\"116.327\", \"123.728\", \"120.251\", \"120.135\", \"118.950\", \"122.338\"], \"text\": [\"15060-38-ARG-1\", \"15060-70-ARG-1\", \"15060-78-ARG-1\", \"15060-79-ARG-1\", \"15060-90-ARG-1\", \"15060-97-ARG-1\"], \"mode\": \"markers\", \"opacity\": 0.5, \"name\": \"ARG\"}, {\"type\": \"scatter\", \"x\": [\"7.782\"], \"y\": [\"120.541\"], \"text\": [\"15060-89-MET-1\"], \"mode\": \"markers\", \"opacity\": 0.5, \"name\": \"MET\"}, {\"type\": \"scatter\", \"x\": [\"8.648\", \"8.165\", \"7.553\", \"8.048\"], \"y\": [\"118.308\", \"121.830\", \"115.112\", \"120.616\"], \"text\": [\"15060-42-PHE-1\", \"15060-54-PHE-1\", \"15060-67-PHE-1\", \"15060-95-PHE-1\"], \"mode\": \"markers\", \"opacity\": 0.5, \"name\": \"PHE\"}, {\"type\": \"scatter\", \"x\": [\"8.197\", \"8.269\", \"8.236\", \"8.499\", \"8.659\", \"8.615\", \"8.269\", \"8.391\"], \"y\": [\"119.648\", \"120.647\", \"118.525\", \"123.085\", \"121.494\", \"119.749\", \"120.647\", \"122.119\"], \"text\": [\"15060-27-GLU-1\", \"15060-29-GLU-1\", \"15060-32-GLU-1\", \"15060-50-GLU-1\", \"15060-69-GLU-1\", \"15060-74-GLU-1\", \"15060-105-GLU-1\", \"15060-106-GLU-1\"], \"mode\": \"markers\", \"opacity\": 0.5, \"name\": \"GLU\"}, {\"type\": \"scatter\", \"x\": [\"7.564\"], \"y\": [\"117.388\"], \"text\": [\"15060-65-HIS-1\"], \"mode\": \"markers\", \"opacity\": 0.5, \"name\": \"HIS\"}], {\"xaxis\": {\"autorange\": \"reversed\", \"title\": \"H (ppm)\"}, \"yaxis\": {\"autorange\": \"reversed\", \"title\": \"N (ppm)\"}, \"showlegend\": true, \"hovermode\": \"closest\", \"title\": \"Simulated N15-HSQC peak positions\"}, {\"showLink\": true, \"linkText\": \"Export to plot.ly\"})});</script>"
      ],
      "text/vnd.plotly.v1+html": [
       "<div id=\"b0a704b7-2538-48a6-8225-9ac1cd141449\" style=\"height: 525px; width: 100%;\" class=\"plotly-graph-div\"></div><script type=\"text/javascript\">require([\"plotly\"], function(Plotly) { window.PLOTLYENV=window.PLOTLYENV || {};window.PLOTLYENV.BASE_URL=\"https://plot.ly\";Plotly.newPlot(\"b0a704b7-2538-48a6-8225-9ac1cd141449\", [{\"type\": \"scatter\", \"x\": [\"8.796\", \"8.126\", \"7.921\", \"7.723\", \"8.691\", \"8.269\", \"8.269\", \"8.376\", \"8.409\", \"8.048\"], \"y\": [\"120.621\", \"118.623\", \"119.109\", \"120.613\", \"115.520\", \"120.647\", \"120.647\", \"120.080\", \"122.658\", \"127.146\"], \"text\": [\"15060-35-ASP-1\", \"15060-51-ASP-1\", \"15060-64-ASP-1\", \"15060-66-ASP-1\", \"15060-71-ASP-1\", \"15060-92-ASP-1\", \"15060-101-ASP-1\", \"15060-102-ASP-1\", \"15060-104-ASP-1\", \"15060-107-ASP-1\"], \"mode\": \"markers\", \"opacity\": 0.5, \"name\": \"ASP\"}, {\"type\": \"scatter\", \"x\": [\"7.093\"], \"y\": [\"101.824\"], \"text\": [\"15060-41-GLY-1\"], \"mode\": \"markers\", \"opacity\": 0.5, \"name\": \"GLY\"}, {\"type\": \"scatter\", \"x\": [\"8.492\", \"10.148\"], \"y\": [\"122.912\", \"130.106\"], \"text\": [\"15060-36-TRP-1\", \"15060-36-TRP-HE1-1\"], \"mode\": \"markers\", \"opacity\": 0.5, \"name\": \"TRP\"}, {\"type\": \"scatter\", \"x\": [\"7.882\", \"8.087\", \"8.239\"], \"y\": [\"111.515\", \"113.499\", \"115.602\"], \"text\": [\"15060-52-SER-1\", \"15060-88-SER-1\", \"15060-103-SER-1\"], \"mode\": \"markers\", \"opacity\": 0.5, \"name\": \"SER\"}, {\"type\": \"scatter\", \"x\": [\"8.021\", \"7.703\", \"6.839\", \"8.313\", \"7.393\", \"6.770\", \"10.134\", \"7.600\", \"7.526\", \"8.114\", \"7.884\", \"6.867\", \"8.169\", \"7.337\", \"6.871\", \"8.160\", \"7.519\", \"6.884\"], \"y\": [\"121.400\", \"112.158\", \"112.158\", \"119.279\", \"111.116\", \"111.116\", \"121.355\", \"111.932\", \"111.932\", \"117.390\", \"115.368\", \"115.368\", \"114.417\", \"113.885\", \"113.885\", \"121.289\", \"112.512\", \"112.512\"], \"text\": [\"15060-25-GLN-1\", \"15060-25-GLN-HE21-1\", \"15060-25-GLN-HE22-1\", \"15060-26-GLN-1\", \"15060-26-GLN-HE21-1\", \"15060-26-GLN-HE22-1\", \"15060-44-GLN-1\", \"15060-44-GLN-HE21-1\", \"15060-44-GLN-HE22-1\", \"15060-47-GLN-1\", \"15060-47-GLN-HE21-1\", \"15060-47-GLN-HE22-1\", \"15060-53-GLN-1\", \"15060-53-GLN-HE21-1\", \"15060-53-GLN-HE22-1\", \"15060-96-GLN-1\", \"15060-96-GLN-HE21-1\", \"15060-96-GLN-HE22-1\"], \"mode\": \"markers\", \"opacity\": 0.5, \"name\": \"GLN\"}, {\"type\": \"scatter\", \"x\": [\"8.451\", \"8.273\", \"8.435\"], \"y\": [\"116.884\", \"116.751\", \"118.712\"], \"text\": [\"15060-34-CYS-1\", \"15060-77-CYS-1\", \"15060-86-CYS-1\"], \"mode\": \"markers\", \"opacity\": 0.5, \"name\": \"CYS\"}, {\"type\": \"scatter\", \"x\": [\"7.997\", \"8.236\", \"7.435\", \"8.096\", \"8.441\", \"8.522\"], \"y\": [\"120.697\", \"118.525\", \"118.030\", \"122.287\", \"123.396\", \"123.539\"], \"text\": [\"15060-31-LYS-1\", \"15060-62-LYS-1\", \"15060-63-LYS-1\", \"15060-85-LYS-1\", \"15060-98-LYS-1\", \"15060-99-LYS-1\"], \"mode\": \"markers\", \"opacity\": 0.5, \"name\": \"LYS\"}, {\"type\": \"scatter\", \"x\": [\"8.390\", \"7.007\", \"7.710\", \"8.517\", \"7.566\", \"6.954\", \"8.967\", \"7.232\", \"7.739\", \"8.376\", \"7.684\", \"6.944\"], \"y\": [\"122.152\", \"111.858\", \"111.858\", \"118.647\", \"114.200\", \"114.200\", \"121.031\", \"105.352\", \"105.352\", \"120.080\", \"113.553\", \"113.553\"], \"text\": [\"15060-57-ASN-1\", \"15060-57-ASN-HD21-1\", \"15060-57-ASN-HD22-1\", \"15060-81-ASN-1\", \"15060-81-ASN-HD21-1\", \"15060-81-ASN-HD22-1\", \"15060-84-ASN-1\", \"15060-84-ASN-HD21-1\", \"15060-84-ASN-HD22-1\", \"15060-94-ASN-1\", \"15060-94-ASN-HD21-1\", \"15060-94-ASN-HD22-1\"], \"mode\": \"markers\", \"opacity\": 0.5, \"name\": \"ASN\"}, {\"type\": \"scatter\", \"x\": [\"8.033\", \"8.021\", \"8.972\", \"8.611\"], \"y\": [\"119.731\", \"121.869\", \"119.002\", \"128.642\"], \"text\": [\"15060-24-ILE-1\", \"15060-28-ILE-1\", \"15060-56-ILE-1\", \"15060-58-ILE-1\"], \"mode\": \"markers\", \"opacity\": 0.5, \"name\": \"ILE\"}, {\"type\": \"scatter\", \"x\": [\"8.048\", \"7.380\", \"7.761\", \"8.033\"], \"y\": [\"120.251\", \"119.124\", \"119.359\", \"119.731\"], \"text\": [\"15060-21-VAL-1\", \"15060-61-VAL-1\", \"15060-73-VAL-1\", \"15060-93-VAL-1\"], \"mode\": \"markers\", \"opacity\": 0.5, \"name\": \"VAL\"}, {\"type\": \"scatter\", \"x\": [\"8.032\", \"8.036\"], \"y\": [\"116.327\", \"119.380\"], \"text\": [\"15060-22-THR-1\", \"15060-82-THR-1\"], \"mode\": \"markers\", \"opacity\": 0.5, \"name\": \"THR\"}, {\"type\": \"scatter\", \"x\": [\"7.241\", \"7.761\"], \"y\": [\"119.170\", \"119.359\"], \"text\": [\"15060-45-TYR-1\", \"15060-49-TYR-1\"], \"mode\": \"markers\", \"opacity\": 0.5, \"name\": \"TYR\"}, {\"type\": \"scatter\", \"x\": [\"8.149\", \"8.733\", \"7.831\", \"7.545\", \"7.912\", \"7.241\", \"8.160\", \"7.897\", \"7.936\"], \"y\": [\"122.739\", \"118.921\", \"118.032\", \"123.253\", \"118.675\", \"119.170\", \"117.390\", \"121.629\", \"121.017\"], \"text\": [\"15060-20-LEU-1\", \"15060-37-LEU-1\", \"15060-48-LEU-1\", \"15060-68-LEU-1\", \"15060-72-LEU-1\", \"15060-76-LEU-1\", \"15060-80-LEU-1\", \"15060-83-LEU-1\", \"15060-91-LEU-1\"], \"mode\": \"markers\", \"opacity\": 0.5, \"name\": \"LEU\"}, {\"type\": \"scatter\", \"x\": [\"8.280\", \"7.897\", \"7.900\", \"8.067\", \"6.875\", \"8.080\", \"7.422\", \"8.744\"], \"y\": [\"122.373\", \"121.629\", \"122.812\", \"118.343\", \"121.385\", \"122.287\", \"119.996\", \"121.138\"], \"text\": [\"15060-30-ALA-1\", \"15060-33-ALA-1\", \"15060-39-ALA-1\", \"15060-40-ALA-1\", \"15060-46-ALA-1\", \"15060-59-ALA-1\", \"15060-60-ALA-1\", \"15060-87-ALA-1\"], \"mode\": \"markers\", \"opacity\": 0.5, \"name\": \"ALA\"}, {\"type\": \"scatter\", \"x\": [\"8.032\", \"8.804\", \"8.060\", \"7.328\", \"7.793\", \"8.204\"], \"y\": [\"116.327\", \"123.728\", \"120.251\", \"120.135\", \"118.950\", \"122.338\"], \"text\": [\"15060-38-ARG-1\", \"15060-70-ARG-1\", \"15060-78-ARG-1\", \"15060-79-ARG-1\", \"15060-90-ARG-1\", \"15060-97-ARG-1\"], \"mode\": \"markers\", \"opacity\": 0.5, \"name\": \"ARG\"}, {\"type\": \"scatter\", \"x\": [\"7.782\"], \"y\": [\"120.541\"], \"text\": [\"15060-89-MET-1\"], \"mode\": \"markers\", \"opacity\": 0.5, \"name\": \"MET\"}, {\"type\": \"scatter\", \"x\": [\"8.648\", \"8.165\", \"7.553\", \"8.048\"], \"y\": [\"118.308\", \"121.830\", \"115.112\", \"120.616\"], \"text\": [\"15060-42-PHE-1\", \"15060-54-PHE-1\", \"15060-67-PHE-1\", \"15060-95-PHE-1\"], \"mode\": \"markers\", \"opacity\": 0.5, \"name\": \"PHE\"}, {\"type\": \"scatter\", \"x\": [\"8.197\", \"8.269\", \"8.236\", \"8.499\", \"8.659\", \"8.615\", \"8.269\", \"8.391\"], \"y\": [\"119.648\", \"120.647\", \"118.525\", \"123.085\", \"121.494\", \"119.749\", \"120.647\", \"122.119\"], \"text\": [\"15060-27-GLU-1\", \"15060-29-GLU-1\", \"15060-32-GLU-1\", \"15060-50-GLU-1\", \"15060-69-GLU-1\", \"15060-74-GLU-1\", \"15060-105-GLU-1\", \"15060-106-GLU-1\"], \"mode\": \"markers\", \"opacity\": 0.5, \"name\": \"GLU\"}, {\"type\": \"scatter\", \"x\": [\"7.564\"], \"y\": [\"117.388\"], \"text\": [\"15060-65-HIS-1\"], \"mode\": \"markers\", \"opacity\": 0.5, \"name\": \"HIS\"}], {\"xaxis\": {\"autorange\": \"reversed\", \"title\": \"H (ppm)\"}, \"yaxis\": {\"autorange\": \"reversed\", \"title\": \"N (ppm)\"}, \"showlegend\": true, \"hovermode\": \"closest\", \"title\": \"Simulated N15-HSQC peak positions\"}, {\"showLink\": true, \"linkText\": \"Export to plot.ly\"})});</script>"
      ]
     },
     "metadata": {},
     "output_type": "display_data"
    }
   ],
   "source": [
    "s.n15hsqc(bmrbid='15060')"
   ]
  },
  {
   "cell_type": "code",
   "execution_count": 5,
   "metadata": {},
   "outputs": [],
   "source": [
    "s.n15hsqc(bmrbid=[17074,17076,17077])"
   ]
  },
  {
   "cell_type": "code",
   "execution_count": 6,
   "metadata": {},
   "outputs": [],
   "source": [
    "s.n15hsqc(bmrbid=[17074,17076,17077],groupbyres=True)"
   ]
  },
  {
   "cell_type": "markdown",
   "metadata": {},
   "source": [
    "## N<sup>15</sup>-HSQC from local file"
   ]
  },
  {
   "cell_type": "code",
   "execution_count": 7,
   "metadata": {},
   "outputs": [],
   "source": [
    "s.n15hsqc(filename='../data/test.str')"
   ]
  },
  {
   "cell_type": "markdown",
   "metadata": {},
   "source": [
    "### Comparing local file with BMRB entry"
   ]
  },
  {
   "cell_type": "code",
   "execution_count": 8,
   "metadata": {},
   "outputs": [],
   "source": [
    "s.n15hsqc(bmrbid='17074',filename='../data/test.str')"
   ]
  },
  {
   "cell_type": "markdown",
   "metadata": {},
   "source": [
    "## Predicting pseudo random coil N<sup>15</sup>-HSQC from sequence\n",
    "\n",
    "BMRB contains chemical shifts of amino acids in various proteins in different secondary structures and in different conformations. The chemical shift of a particular amino acid in BMRB is reported as that amino acid is being a member of an helix or beta sheet or turn or coil. Averaging over the entire data base would give an average value over all possible confirmation. In order to predict random coil chemical shift, we should consider sequentially nearest neighbor effects, otherwise we end up having only 19(excluding PRO) overlapping peaks for any given sequence. If we consider the effect of one residue on both sides, then we may construct tri-peptides from the sequence and find the mean value of the middle residue using all such tri-pepdtides in the BMRB database.   Similarly we can extend our nearest neighbor effects to two residues on both side (penta-peptide model) and three residues on both side(hept-peptide model).   \n",
    "The nearest neighbor effect can be controlled by the parameter 'nn' which takes values 3 (or) 5 (or) 7.\n",
    "Lets see some examples. \n",
    "Ubiquitin BMRB ID 17769\n"
   ]
  },
  {
   "cell_type": "code",
   "execution_count": 9,
   "metadata": {},
   "outputs": [],
   "source": [
    "seq = 'MQIFVKTLTGKTITLEVEPSDTIENVKAKIQDKEGIPPDQQRLIFAGKQLEDGRTLSDYNIQKESTLHLVLRLRGG'"
   ]
  },
  {
   "cell_type": "code",
   "execution_count": 10,
   "metadata": {},
   "outputs": [],
   "source": [
    "s.n15hsqc(bmrbid=17769,seq=seq,filename='../data/test.str')"
   ]
  },
  {
   "cell_type": "code",
   "execution_count": 11,
   "metadata": {},
   "outputs": [],
   "source": [
    "s.n15hsqc(bmrbid=17769,seq=seq,nn=5)"
   ]
  },
  {
   "cell_type": "code",
   "execution_count": 12,
   "metadata": {},
   "outputs": [],
   "source": [
    "s.n15hsqc(bmrbid=17769,seq=seq,nn=7)"
   ]
  },
  {
   "cell_type": "code",
   "execution_count": 13,
   "metadata": {},
   "outputs": [],
   "source": [
    "s.n15hsqc(bmrbid=17769,seq=seq,nn=7,groupbyres=True)"
   ]
  },
  {
   "cell_type": "code",
   "execution_count": null,
   "metadata": {},
   "outputs": [],
   "source": []
  }
 ],
 "metadata": {
  "kernelspec": {
   "display_name": "Python 3",
   "language": "python",
   "name": "python3"
  },
  "language_info": {
   "codemirror_mode": {
    "name": "ipython",
    "version": 3
   },
   "file_extension": ".py",
   "mimetype": "text/x-python",
   "name": "python",
   "nbconvert_exporter": "python",
   "pygments_lexer": "ipython3",
   "version": "3.6.7"
  }
 },
 "nbformat": 4,
 "nbformat_minor": 2
}
