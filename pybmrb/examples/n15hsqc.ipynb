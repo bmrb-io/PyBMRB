{
 "cells": [
  {
   "cell_type": "markdown",
   "metadata": {},
   "source": [
    "# N<sup>15</sup>- HSQC peak position simulation\n",
    "\n",
    "N<sup>15</sup>-HSQC peak positions can be simulated by algorithmically combining nitrogen and proton chemical shifts from assigned chemical shifts in any BMRB entry.  \n",
    "## Initialization"
   ]
  },
  {
   "cell_type": "code",
   "execution_count": null,
   "metadata": {},
   "outputs": [],
   "source": [
    "from pybmrb import csviz"
   ]
  },
  {
   "cell_type": "markdown",
   "metadata": {},
   "source": [
    "by default the functions in this library will write output in a html file given as a parameter. It also has notebook mode which will generate embedded visualization in the notebook. Let's enable the notebook mode. "
   ]
  },
  {
   "cell_type": "code",
   "execution_count": null,
   "metadata": {},
   "outputs": [],
   "source": [
    "csviz.NOTEBOOK = True"
   ]
  },
  {
   "cell_type": "markdown",
   "metadata": {},
   "source": [
    "Let's call the histogram method"
   ]
  },
  {
   "cell_type": "code",
   "execution_count": null,
   "metadata": {},
   "outputs": [],
   "source": [
    "s = csviz.Spectra()"
   ]
  },
  {
   "cell_type": "markdown",
   "metadata": {},
   "source": [
    "### N<sup>15</sup>-HSQC from BMRB Entry"
   ]
  },
  {
   "cell_type": "code",
   "execution_count": null,
   "metadata": {},
   "outputs": [],
   "source": [
    "s.n15hsqc(bmrbid='15060')"
   ]
  },
  {
   "cell_type": "markdown",
   "metadata": {},
   "source": [
    "### Comparing spectra from different BMRB entries"
   ]
  },
  {
   "cell_type": "code",
   "execution_count": null,
   "metadata": {
    "scrolled": true
   },
   "outputs": [],
   "source": [
    "s.n15hsqc(bmrbid=[17074,17076,17077])"
   ]
  },
  {
   "cell_type": "code",
   "execution_count": null,
   "metadata": {},
   "outputs": [],
   "source": [
    "s.n15hsqc(bmrbid=[17074,17076,17077],groupbyres=True)"
   ]
  },
  {
   "cell_type": "markdown",
   "metadata": {},
   "source": [
    "### N<sup>15</sup>-HSQC from local file"
   ]
  },
  {
   "cell_type": "code",
   "execution_count": null,
   "metadata": {},
   "outputs": [],
   "source": [
    "s.n15hsqc(filename='test.str')"
   ]
  },
  {
   "cell_type": "markdown",
   "metadata": {},
   "source": [
    "### Comparing local file with BMRB entry"
   ]
  },
  {
   "cell_type": "code",
   "execution_count": null,
   "metadata": {},
   "outputs": [],
   "source": [
    "s.n15hsqc(bmrbid='17074',filename='test.str')"
   ]
  },
  {
   "cell_type": "markdown",
   "metadata": {},
   "source": [
    "## Predicting pseudo random coil N<sup>15</sup>-HSQC from sequence\n",
    "\n",
    "BMRB contains chemical shifts of amino acids in various proteins in different secondary structures and in different conformations. The chemical shift of a particular amino acid in BMRB is reported as that amino acid is being a member of an helix or beta sheet or turn or coil. Averaging over the entire data base would give an average value over all possible confirmation. In order to predict random coil chemical shift, we should consider sequentially nearest neighbor effects, otherwise we end up having only 19(excluding PRO) overlapping peaks for any given sequence. If we consider the effect of one residue on both sides, then we may construct tri-peptides from the sequence and find the mean value of the middle residue using all such tri-pepdtides in the BMRB database.   Similarly we can extend our nearest neighbor effects to two residues on both side (penta-peptide model) and three residues on both side(hept-peptide model).   \n",
    "The nearest neighbor effect can be controlled by the parameter 'nn' which takes values 3 (or) 5 (or) 7.\n",
    "Lets see some examples. \n",
    "Ubiquitin BMRB ID 17769\n"
   ]
  },
  {
   "cell_type": "code",
   "execution_count": null,
   "metadata": {},
   "outputs": [],
   "source": [
    "seq = 'MQIFVKTLTGKTITLEVEPSDTIENVKAKIQDKEGIPPDQQRLIFAGKQLEDGRTLSDYNIQKESTLHLVLRLRGG'"
   ]
  },
  {
   "cell_type": "code",
   "execution_count": null,
   "metadata": {},
   "outputs": [],
   "source": [
    "s.n15hsqc(bmrbid=17769,seq=seq,filename='test.str')"
   ]
  },
  {
   "cell_type": "code",
   "execution_count": null,
   "metadata": {},
   "outputs": [],
   "source": [
    "s.n15hsqc(bmrbid=17769,seq=seq,nn=5)"
   ]
  },
  {
   "cell_type": "code",
   "execution_count": null,
   "metadata": {},
   "outputs": [],
   "source": [
    "s.n15hsqc(bmrbid=17769,seq=seq,nn=7)"
   ]
  },
  {
   "cell_type": "code",
   "execution_count": null,
   "metadata": {},
   "outputs": [],
   "source": [
    "s.n15hsqc(bmrbid=17769,seq=seq,nn=7,groupbyres=True)"
   ]
  }
 ],
 "metadata": {
  "kernelspec": {
   "display_name": "Python 3",
   "language": "python",
   "name": "python3"
  },
  "language_info": {
   "codemirror_mode": {
    "name": "ipython",
    "version": 3
   },
   "file_extension": ".py",
   "mimetype": "text/x-python",
   "name": "python",
   "nbconvert_exporter": "python",
   "pygments_lexer": "ipython3",
   "version": "3.7.0"
  }
 },
 "nbformat": 4,
 "nbformat_minor": 2
}
